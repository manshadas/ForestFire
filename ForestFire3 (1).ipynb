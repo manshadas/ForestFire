{
  "nbformat": 4,
  "nbformat_minor": 0,
  "metadata": {
    "colab": {
      "name": "ForestFire3.ipynb",
      "provenance": []
    },
    "kernelspec": {
      "name": "python3",
      "display_name": "Python 3"
    }
  },
  "cells": [
    {
      "cell_type": "markdown",
      "metadata": {
        "id": "--k7oPThzGUb"
      },
      "source": [
        "**Predicting Forest Fire Areas and Coordinates**"
      ]
    },
    {
      "cell_type": "markdown",
      "metadata": {
        "id": "Wb_GwDg1zLMH"
      },
      "source": [
        "This is a group project by Priya Paul Roll no. A20013 and Mansha Das Roll no. A20012. Here we have taken the dataset from the UCI machine learning repository. We are intended to work with various algorithms. For the time beig we have included KNN, Naive Baise algorithm,XGBoost.\r\n",
        "\r\n",
        "Forest fires importantly influence our environment and lives. The ability of accurately predicting the area that may be involved in a forest fire event may help in optimizing fire management efforts.Forest fires are a major environmental issue, creating economical and ecological damage while endangering human lives. Fast detection is a key element for controlling such phenomenon.This dataset covers meteorological and spatiotemporal data for forest fires (between 2000 and 2003) in Portugal’s Montesinho Natural Park, with 13 attributes each for 517 such incidents. Our target attribute from these 13 is ‘area’ - total burned area in hectares (ha). We also have DMC, DC, ISI and FFMC are components of the Canadian Forest Fire Weather Index (FWI) System, which measures the effects of fuel moisture and wind on fire behavior. These have been calculated using consecutive daily observations of temperature, relative humidity, wind speed, and 24-hour rainfall"
      ]
    },
    {
      "cell_type": "code",
      "metadata": {
        "id": "RP9VUS5bzMIe"
      },
      "source": [
        "import numpy as np\r\n",
        "import pandas as pd\r\n",
        "import matplotlib.pyplot as plt"
      ],
      "execution_count": 69,
      "outputs": []
    },
    {
      "cell_type": "code",
      "metadata": {
        "id": "rMekmMDlzPC1"
      },
      "source": [
        "data = pd.read_csv(\"forestfires.csv\")"
      ],
      "execution_count": 70,
      "outputs": []
    },
    {
      "cell_type": "code",
      "metadata": {
        "colab": {
          "base_uri": "https://localhost:8080/",
          "height": 314
        },
        "id": "H6dbN0PSzuTk",
        "outputId": "d5e3385a-a898-4288-ef6d-79e60d84dc76"
      },
      "source": [
        "data.describe()"
      ],
      "execution_count": 71,
      "outputs": [
        {
          "output_type": "execute_result",
          "data": {
            "text/html": [
              "<div>\n",
              "<style scoped>\n",
              "    .dataframe tbody tr th:only-of-type {\n",
              "        vertical-align: middle;\n",
              "    }\n",
              "\n",
              "    .dataframe tbody tr th {\n",
              "        vertical-align: top;\n",
              "    }\n",
              "\n",
              "    .dataframe thead th {\n",
              "        text-align: right;\n",
              "    }\n",
              "</style>\n",
              "<table border=\"1\" class=\"dataframe\">\n",
              "  <thead>\n",
              "    <tr style=\"text-align: right;\">\n",
              "      <th></th>\n",
              "      <th>X</th>\n",
              "      <th>Y</th>\n",
              "      <th>FFMC</th>\n",
              "      <th>DMC</th>\n",
              "      <th>DC</th>\n",
              "      <th>ISI</th>\n",
              "      <th>temp</th>\n",
              "      <th>RH</th>\n",
              "      <th>wind</th>\n",
              "      <th>rain</th>\n",
              "      <th>area</th>\n",
              "    </tr>\n",
              "  </thead>\n",
              "  <tbody>\n",
              "    <tr>\n",
              "      <th>count</th>\n",
              "      <td>517.000000</td>\n",
              "      <td>517.000000</td>\n",
              "      <td>517.000000</td>\n",
              "      <td>517.000000</td>\n",
              "      <td>517.000000</td>\n",
              "      <td>517.000000</td>\n",
              "      <td>517.000000</td>\n",
              "      <td>517.000000</td>\n",
              "      <td>517.000000</td>\n",
              "      <td>517.000000</td>\n",
              "      <td>517.000000</td>\n",
              "    </tr>\n",
              "    <tr>\n",
              "      <th>mean</th>\n",
              "      <td>4.669246</td>\n",
              "      <td>4.299807</td>\n",
              "      <td>90.644681</td>\n",
              "      <td>110.872340</td>\n",
              "      <td>547.940039</td>\n",
              "      <td>9.021663</td>\n",
              "      <td>18.889168</td>\n",
              "      <td>44.288201</td>\n",
              "      <td>4.017602</td>\n",
              "      <td>0.021663</td>\n",
              "      <td>12.847292</td>\n",
              "    </tr>\n",
              "    <tr>\n",
              "      <th>std</th>\n",
              "      <td>2.313778</td>\n",
              "      <td>1.229900</td>\n",
              "      <td>5.520111</td>\n",
              "      <td>64.046482</td>\n",
              "      <td>248.066192</td>\n",
              "      <td>4.559477</td>\n",
              "      <td>5.806625</td>\n",
              "      <td>16.317469</td>\n",
              "      <td>1.791653</td>\n",
              "      <td>0.295959</td>\n",
              "      <td>63.655818</td>\n",
              "    </tr>\n",
              "    <tr>\n",
              "      <th>min</th>\n",
              "      <td>1.000000</td>\n",
              "      <td>2.000000</td>\n",
              "      <td>18.700000</td>\n",
              "      <td>1.100000</td>\n",
              "      <td>7.900000</td>\n",
              "      <td>0.000000</td>\n",
              "      <td>2.200000</td>\n",
              "      <td>15.000000</td>\n",
              "      <td>0.400000</td>\n",
              "      <td>0.000000</td>\n",
              "      <td>0.000000</td>\n",
              "    </tr>\n",
              "    <tr>\n",
              "      <th>25%</th>\n",
              "      <td>3.000000</td>\n",
              "      <td>4.000000</td>\n",
              "      <td>90.200000</td>\n",
              "      <td>68.600000</td>\n",
              "      <td>437.700000</td>\n",
              "      <td>6.500000</td>\n",
              "      <td>15.500000</td>\n",
              "      <td>33.000000</td>\n",
              "      <td>2.700000</td>\n",
              "      <td>0.000000</td>\n",
              "      <td>0.000000</td>\n",
              "    </tr>\n",
              "    <tr>\n",
              "      <th>50%</th>\n",
              "      <td>4.000000</td>\n",
              "      <td>4.000000</td>\n",
              "      <td>91.600000</td>\n",
              "      <td>108.300000</td>\n",
              "      <td>664.200000</td>\n",
              "      <td>8.400000</td>\n",
              "      <td>19.300000</td>\n",
              "      <td>42.000000</td>\n",
              "      <td>4.000000</td>\n",
              "      <td>0.000000</td>\n",
              "      <td>0.520000</td>\n",
              "    </tr>\n",
              "    <tr>\n",
              "      <th>75%</th>\n",
              "      <td>7.000000</td>\n",
              "      <td>5.000000</td>\n",
              "      <td>92.900000</td>\n",
              "      <td>142.400000</td>\n",
              "      <td>713.900000</td>\n",
              "      <td>10.800000</td>\n",
              "      <td>22.800000</td>\n",
              "      <td>53.000000</td>\n",
              "      <td>4.900000</td>\n",
              "      <td>0.000000</td>\n",
              "      <td>6.570000</td>\n",
              "    </tr>\n",
              "    <tr>\n",
              "      <th>max</th>\n",
              "      <td>9.000000</td>\n",
              "      <td>9.000000</td>\n",
              "      <td>96.200000</td>\n",
              "      <td>291.300000</td>\n",
              "      <td>860.600000</td>\n",
              "      <td>56.100000</td>\n",
              "      <td>33.300000</td>\n",
              "      <td>100.000000</td>\n",
              "      <td>9.400000</td>\n",
              "      <td>6.400000</td>\n",
              "      <td>1090.840000</td>\n",
              "    </tr>\n",
              "  </tbody>\n",
              "</table>\n",
              "</div>"
            ],
            "text/plain": [
              "                X           Y        FFMC  ...        wind        rain         area\n",
              "count  517.000000  517.000000  517.000000  ...  517.000000  517.000000   517.000000\n",
              "mean     4.669246    4.299807   90.644681  ...    4.017602    0.021663    12.847292\n",
              "std      2.313778    1.229900    5.520111  ...    1.791653    0.295959    63.655818\n",
              "min      1.000000    2.000000   18.700000  ...    0.400000    0.000000     0.000000\n",
              "25%      3.000000    4.000000   90.200000  ...    2.700000    0.000000     0.000000\n",
              "50%      4.000000    4.000000   91.600000  ...    4.000000    0.000000     0.520000\n",
              "75%      7.000000    5.000000   92.900000  ...    4.900000    0.000000     6.570000\n",
              "max      9.000000    9.000000   96.200000  ...    9.400000    6.400000  1090.840000\n",
              "\n",
              "[8 rows x 11 columns]"
            ]
          },
          "metadata": {
            "tags": []
          },
          "execution_count": 71
        }
      ]
    },
    {
      "cell_type": "markdown",
      "metadata": {
        "id": "8Xf2zg2tzz74"
      },
      "source": [
        "Checking the datatype so that for the model if we need to change any datatype"
      ]
    },
    {
      "cell_type": "code",
      "metadata": {
        "colab": {
          "base_uri": "https://localhost:8080/"
        },
        "id": "23TgxR39z2df",
        "outputId": "d41c5e9f-12e6-4915-d820-295d4ca81fe2"
      },
      "source": [
        "data.dtypes"
      ],
      "execution_count": 72,
      "outputs": [
        {
          "output_type": "execute_result",
          "data": {
            "text/plain": [
              "X          int64\n",
              "Y          int64\n",
              "month     object\n",
              "day       object\n",
              "FFMC     float64\n",
              "DMC      float64\n",
              "DC       float64\n",
              "ISI      float64\n",
              "temp     float64\n",
              "RH         int64\n",
              "wind     float64\n",
              "rain     float64\n",
              "area     float64\n",
              "dtype: object"
            ]
          },
          "metadata": {
            "tags": []
          },
          "execution_count": 72
        }
      ]
    },
    {
      "cell_type": "code",
      "metadata": {
        "colab": {
          "base_uri": "https://localhost:8080/",
          "height": 415
        },
        "id": "Ge-ASC1qz41W",
        "outputId": "ebabed02-d94b-4706-cfd1-6b1afeb0c3f6"
      },
      "source": [
        "data.isnull()"
      ],
      "execution_count": 73,
      "outputs": [
        {
          "output_type": "execute_result",
          "data": {
            "text/html": [
              "<div>\n",
              "<style scoped>\n",
              "    .dataframe tbody tr th:only-of-type {\n",
              "        vertical-align: middle;\n",
              "    }\n",
              "\n",
              "    .dataframe tbody tr th {\n",
              "        vertical-align: top;\n",
              "    }\n",
              "\n",
              "    .dataframe thead th {\n",
              "        text-align: right;\n",
              "    }\n",
              "</style>\n",
              "<table border=\"1\" class=\"dataframe\">\n",
              "  <thead>\n",
              "    <tr style=\"text-align: right;\">\n",
              "      <th></th>\n",
              "      <th>X</th>\n",
              "      <th>Y</th>\n",
              "      <th>month</th>\n",
              "      <th>day</th>\n",
              "      <th>FFMC</th>\n",
              "      <th>DMC</th>\n",
              "      <th>DC</th>\n",
              "      <th>ISI</th>\n",
              "      <th>temp</th>\n",
              "      <th>RH</th>\n",
              "      <th>wind</th>\n",
              "      <th>rain</th>\n",
              "      <th>area</th>\n",
              "    </tr>\n",
              "  </thead>\n",
              "  <tbody>\n",
              "    <tr>\n",
              "      <th>0</th>\n",
              "      <td>False</td>\n",
              "      <td>False</td>\n",
              "      <td>False</td>\n",
              "      <td>False</td>\n",
              "      <td>False</td>\n",
              "      <td>False</td>\n",
              "      <td>False</td>\n",
              "      <td>False</td>\n",
              "      <td>False</td>\n",
              "      <td>False</td>\n",
              "      <td>False</td>\n",
              "      <td>False</td>\n",
              "      <td>False</td>\n",
              "    </tr>\n",
              "    <tr>\n",
              "      <th>1</th>\n",
              "      <td>False</td>\n",
              "      <td>False</td>\n",
              "      <td>False</td>\n",
              "      <td>False</td>\n",
              "      <td>False</td>\n",
              "      <td>False</td>\n",
              "      <td>False</td>\n",
              "      <td>False</td>\n",
              "      <td>False</td>\n",
              "      <td>False</td>\n",
              "      <td>False</td>\n",
              "      <td>False</td>\n",
              "      <td>False</td>\n",
              "    </tr>\n",
              "    <tr>\n",
              "      <th>2</th>\n",
              "      <td>False</td>\n",
              "      <td>False</td>\n",
              "      <td>False</td>\n",
              "      <td>False</td>\n",
              "      <td>False</td>\n",
              "      <td>False</td>\n",
              "      <td>False</td>\n",
              "      <td>False</td>\n",
              "      <td>False</td>\n",
              "      <td>False</td>\n",
              "      <td>False</td>\n",
              "      <td>False</td>\n",
              "      <td>False</td>\n",
              "    </tr>\n",
              "    <tr>\n",
              "      <th>3</th>\n",
              "      <td>False</td>\n",
              "      <td>False</td>\n",
              "      <td>False</td>\n",
              "      <td>False</td>\n",
              "      <td>False</td>\n",
              "      <td>False</td>\n",
              "      <td>False</td>\n",
              "      <td>False</td>\n",
              "      <td>False</td>\n",
              "      <td>False</td>\n",
              "      <td>False</td>\n",
              "      <td>False</td>\n",
              "      <td>False</td>\n",
              "    </tr>\n",
              "    <tr>\n",
              "      <th>4</th>\n",
              "      <td>False</td>\n",
              "      <td>False</td>\n",
              "      <td>False</td>\n",
              "      <td>False</td>\n",
              "      <td>False</td>\n",
              "      <td>False</td>\n",
              "      <td>False</td>\n",
              "      <td>False</td>\n",
              "      <td>False</td>\n",
              "      <td>False</td>\n",
              "      <td>False</td>\n",
              "      <td>False</td>\n",
              "      <td>False</td>\n",
              "    </tr>\n",
              "    <tr>\n",
              "      <th>...</th>\n",
              "      <td>...</td>\n",
              "      <td>...</td>\n",
              "      <td>...</td>\n",
              "      <td>...</td>\n",
              "      <td>...</td>\n",
              "      <td>...</td>\n",
              "      <td>...</td>\n",
              "      <td>...</td>\n",
              "      <td>...</td>\n",
              "      <td>...</td>\n",
              "      <td>...</td>\n",
              "      <td>...</td>\n",
              "      <td>...</td>\n",
              "    </tr>\n",
              "    <tr>\n",
              "      <th>512</th>\n",
              "      <td>False</td>\n",
              "      <td>False</td>\n",
              "      <td>False</td>\n",
              "      <td>False</td>\n",
              "      <td>False</td>\n",
              "      <td>False</td>\n",
              "      <td>False</td>\n",
              "      <td>False</td>\n",
              "      <td>False</td>\n",
              "      <td>False</td>\n",
              "      <td>False</td>\n",
              "      <td>False</td>\n",
              "      <td>False</td>\n",
              "    </tr>\n",
              "    <tr>\n",
              "      <th>513</th>\n",
              "      <td>False</td>\n",
              "      <td>False</td>\n",
              "      <td>False</td>\n",
              "      <td>False</td>\n",
              "      <td>False</td>\n",
              "      <td>False</td>\n",
              "      <td>False</td>\n",
              "      <td>False</td>\n",
              "      <td>False</td>\n",
              "      <td>False</td>\n",
              "      <td>False</td>\n",
              "      <td>False</td>\n",
              "      <td>False</td>\n",
              "    </tr>\n",
              "    <tr>\n",
              "      <th>514</th>\n",
              "      <td>False</td>\n",
              "      <td>False</td>\n",
              "      <td>False</td>\n",
              "      <td>False</td>\n",
              "      <td>False</td>\n",
              "      <td>False</td>\n",
              "      <td>False</td>\n",
              "      <td>False</td>\n",
              "      <td>False</td>\n",
              "      <td>False</td>\n",
              "      <td>False</td>\n",
              "      <td>False</td>\n",
              "      <td>False</td>\n",
              "    </tr>\n",
              "    <tr>\n",
              "      <th>515</th>\n",
              "      <td>False</td>\n",
              "      <td>False</td>\n",
              "      <td>False</td>\n",
              "      <td>False</td>\n",
              "      <td>False</td>\n",
              "      <td>False</td>\n",
              "      <td>False</td>\n",
              "      <td>False</td>\n",
              "      <td>False</td>\n",
              "      <td>False</td>\n",
              "      <td>False</td>\n",
              "      <td>False</td>\n",
              "      <td>False</td>\n",
              "    </tr>\n",
              "    <tr>\n",
              "      <th>516</th>\n",
              "      <td>False</td>\n",
              "      <td>False</td>\n",
              "      <td>False</td>\n",
              "      <td>False</td>\n",
              "      <td>False</td>\n",
              "      <td>False</td>\n",
              "      <td>False</td>\n",
              "      <td>False</td>\n",
              "      <td>False</td>\n",
              "      <td>False</td>\n",
              "      <td>False</td>\n",
              "      <td>False</td>\n",
              "      <td>False</td>\n",
              "    </tr>\n",
              "  </tbody>\n",
              "</table>\n",
              "<p>517 rows × 13 columns</p>\n",
              "</div>"
            ],
            "text/plain": [
              "         X      Y  month    day   FFMC  ...   temp     RH   wind   rain   area\n",
              "0    False  False  False  False  False  ...  False  False  False  False  False\n",
              "1    False  False  False  False  False  ...  False  False  False  False  False\n",
              "2    False  False  False  False  False  ...  False  False  False  False  False\n",
              "3    False  False  False  False  False  ...  False  False  False  False  False\n",
              "4    False  False  False  False  False  ...  False  False  False  False  False\n",
              "..     ...    ...    ...    ...    ...  ...    ...    ...    ...    ...    ...\n",
              "512  False  False  False  False  False  ...  False  False  False  False  False\n",
              "513  False  False  False  False  False  ...  False  False  False  False  False\n",
              "514  False  False  False  False  False  ...  False  False  False  False  False\n",
              "515  False  False  False  False  False  ...  False  False  False  False  False\n",
              "516  False  False  False  False  False  ...  False  False  False  False  False\n",
              "\n",
              "[517 rows x 13 columns]"
            ]
          },
          "metadata": {
            "tags": []
          },
          "execution_count": 73
        }
      ]
    },
    {
      "cell_type": "code",
      "metadata": {
        "colab": {
          "base_uri": "https://localhost:8080/"
        },
        "id": "HDU0W5acz7hl",
        "outputId": "281a43bf-294f-4879-9c1e-a41dde30dcb7"
      },
      "source": [
        "data.isnull().sum()"
      ],
      "execution_count": 74,
      "outputs": [
        {
          "output_type": "execute_result",
          "data": {
            "text/plain": [
              "X        0\n",
              "Y        0\n",
              "month    0\n",
              "day      0\n",
              "FFMC     0\n",
              "DMC      0\n",
              "DC       0\n",
              "ISI      0\n",
              "temp     0\n",
              "RH       0\n",
              "wind     0\n",
              "rain     0\n",
              "area     0\n",
              "dtype: int64"
            ]
          },
          "metadata": {
            "tags": []
          },
          "execution_count": 74
        }
      ]
    },
    {
      "cell_type": "code",
      "metadata": {
        "id": "8eY4Yow50Fb3"
      },
      "source": [
        ""
      ],
      "execution_count": 74,
      "outputs": []
    },
    {
      "cell_type": "markdown",
      "metadata": {
        "id": "ZKKTnNLa0Gvj"
      },
      "source": [
        " Changing the categorical into interger"
      ]
    },
    {
      "cell_type": "code",
      "metadata": {
        "id": "Zm-I7Vns0Kiy"
      },
      "source": [
        "data.month.replace(('jan','feb','mar','apr','may','jun','jul','aug','sep','oct','nov','dec'),(1,2,3,4,5,6,7,8,9,10,11,12), inplace=True)\r\n",
        "data.day.replace(('mon','tue','wed','thu','fri','sat','sun'),(1,2,3,4,5,6,7), inplace=True)"
      ],
      "execution_count": 75,
      "outputs": []
    },
    {
      "cell_type": "code",
      "metadata": {
        "colab": {
          "base_uri": "https://localhost:8080/"
        },
        "id": "GQ-S7gI10LEa",
        "outputId": "98cbca00-e4f5-44b1-814c-9f4072ac3c27"
      },
      "source": [
        "data.dtypes"
      ],
      "execution_count": 76,
      "outputs": [
        {
          "output_type": "execute_result",
          "data": {
            "text/plain": [
              "X          int64\n",
              "Y          int64\n",
              "month      int64\n",
              "day        int64\n",
              "FFMC     float64\n",
              "DMC      float64\n",
              "DC       float64\n",
              "ISI      float64\n",
              "temp     float64\n",
              "RH         int64\n",
              "wind     float64\n",
              "rain     float64\n",
              "area     float64\n",
              "dtype: object"
            ]
          },
          "metadata": {
            "tags": []
          },
          "execution_count": 76
        }
      ]
    },
    {
      "cell_type": "code",
      "metadata": {
        "colab": {
          "base_uri": "https://localhost:8080/",
          "height": 557
        },
        "id": "uMSnLWIg0MyJ",
        "outputId": "69fc7bf3-769d-4f6b-f3fc-f186c70b9c1c"
      },
      "source": [
        "D1= data.groupby('month').sum() \r\n",
        "print(D1)\r\n",
        "\r\n",
        "months = range(1,13)\r\n",
        "plt.bar(months, D1['temp'])\r\n",
        "plt.xticks(months)\r\n",
        "plt.xlabel('months')\r\n",
        "plt.ylabel('temp')\r\n",
        "plt.show()"
      ],
      "execution_count": 77,
      "outputs": [
        {
          "output_type": "stream",
          "text": [
            "         X    Y  day     FFMC      DMC  ...    temp    RH   wind  rain     area\n",
            "month                                   ...                                    \n",
            "1        6    9   13    100.8      4.8  ...    10.5   178    4.0   0.0     0.00\n",
            "2      103   88   91   1658.1    189.5  ...   192.7  1114   75.1   0.0   125.50\n",
            "3      255  242  218   4830.0   1865.3  ...   706.5  2160  268.3   0.2   235.26\n",
            "4       52   38   44    772.1    143.2  ...   108.4   422   42.0   0.0    80.02\n",
            "5       10    8   11    174.7     53.4  ...    29.3   134    8.9   0.0    38.48\n",
            "6      107   82   75   1520.3   1587.5  ...   348.4   767   70.3   0.0    99.30\n",
            "7      167  147  135   2922.5   3532.4  ...   707.5  1444  119.5   0.2   459.83\n",
            "8      825  788  809  16990.0  28286.8  ...  3980.2  8370  751.9  10.8  2297.99\n",
            "9      754  708  721  15693.8  20798.7  ...  3373.3  7369  611.9   0.0  3086.13\n",
            "10      88   65   58   1356.8    621.3  ...   256.4   562   51.9   0.0    99.57\n",
            "11       6    3    2     79.5      3.0  ...    11.8    31    4.5   0.0     0.00\n",
            "12      41   45   25    764.7    235.1  ...    40.7   346   68.8   0.0   119.97\n",
            "\n",
            "[12 rows x 12 columns]\n"
          ],
          "name": "stdout"
        },
        {
          "output_type": "display_data",
          "data": {
            "image/png": "[encoded data removed]",
            "text/plain": [
              "<Figure size 432x288 with 1 Axes>"
            ]
          },
          "metadata": {
            "tags": [],
            "needs_background": "light"
          }
        }
      ]
    },
    {
      "cell_type": "code",
      "metadata": {
        "colab": {
          "base_uri": "https://localhost:8080/",
          "height": 279
        },
        "id": "_utnhkts0Pvf",
        "outputId": "d0ac26bb-593d-47c6-b406-8d5df7fbc69d"
      },
      "source": [
        "D2= data.groupby('month').sum() \r\n",
        "\r\n",
        "months = range(1,13)\r\n",
        "plt.bar(months, D2['FFMC'])\r\n",
        "plt.xticks(months)\r\n",
        "plt.xlabel('months')\r\n",
        "plt.ylabel('FFMC')\r\n",
        "plt.show()\r\n"
      ],
      "execution_count": 78,
      "outputs": [
        {
          "output_type": "display_data",
          "data": {
            "image/png": "[encoded data removed]",
            "text/plain": [
              "<Figure size 432x288 with 1 Axes>"
            ]
          },
          "metadata": {
            "tags": [],
            "needs_background": "light"
          }
        }
      ]
    },
    {
      "cell_type": "code",
      "metadata": {
        "id": "dcsDO5Q60SU-"
      },
      "source": [
        "from sklearn.neighbors import KNeighborsRegressor as KNR\r\n",
        "from sklearn.metrics import mean_squared_error\r\n",
        "from math import sqrt\r\n",
        "from sklearn.model_selection import train_test_split as tts"
      ],
      "execution_count": 79,
      "outputs": []
    },
    {
      "cell_type": "code",
      "metadata": {
        "id": "Y_GdyRsj0W6h"
      },
      "source": [
        ""
      ],
      "execution_count": 79,
      "outputs": []
    },
    {
      "cell_type": "markdown",
      "metadata": {
        "id": "EXqbZsOU0aVF"
      },
      "source": [
        "Since area column is skewed since maximum value are in 0.0 therefore logarithmic transformation has been done"
      ]
    },
    {
      "cell_type": "code",
      "metadata": {
        "id": "MhbI-y4y0a87"
      },
      "source": [
        "data[\"area\"] = np.log(data[\"area\"]+1)"
      ],
      "execution_count": 80,
      "outputs": []
    },
    {
      "cell_type": "code",
      "metadata": {
        "colab": {
          "base_uri": "https://localhost:8080/",
          "height": 202
        },
        "id": "3BaPKKuz0c36",
        "outputId": "362d46b3-ee5a-42af-ed54-bb0521f948cd"
      },
      "source": [
        "data.head()"
      ],
      "execution_count": 81,
      "outputs": [
        {
          "output_type": "execute_result",
          "data": {
            "text/html": [
              "<div>\n",
              "<style scoped>\n",
              "    .dataframe tbody tr th:only-of-type {\n",
              "        vertical-align: middle;\n",
              "    }\n",
              "\n",
              "    .dataframe tbody tr th {\n",
              "        vertical-align: top;\n",
              "    }\n",
              "\n",
              "    .dataframe thead th {\n",
              "        text-align: right;\n",
              "    }\n",
              "</style>\n",
              "<table border=\"1\" class=\"dataframe\">\n",
              "  <thead>\n",
              "    <tr style=\"text-align: right;\">\n",
              "      <th></th>\n",
              "      <th>X</th>\n",
              "      <th>Y</th>\n",
              "      <th>month</th>\n",
              "      <th>day</th>\n",
              "      <th>FFMC</th>\n",
              "      <th>DMC</th>\n",
              "      <th>DC</th>\n",
              "      <th>ISI</th>\n",
              "      <th>temp</th>\n",
              "      <th>RH</th>\n",
              "      <th>wind</th>\n",
              "      <th>rain</th>\n",
              "      <th>area</th>\n",
              "    </tr>\n",
              "  </thead>\n",
              "  <tbody>\n",
              "    <tr>\n",
              "      <th>0</th>\n",
              "      <td>7</td>\n",
              "      <td>5</td>\n",
              "      <td>3</td>\n",
              "      <td>5</td>\n",
              "      <td>86.2</td>\n",
              "      <td>26.2</td>\n",
              "      <td>94.3</td>\n",
              "      <td>5.1</td>\n",
              "      <td>8.2</td>\n",
              "      <td>51</td>\n",
              "      <td>6.7</td>\n",
              "      <td>0.0</td>\n",
              "      <td>0.0</td>\n",
              "    </tr>\n",
              "    <tr>\n",
              "      <th>1</th>\n",
              "      <td>7</td>\n",
              "      <td>4</td>\n",
              "      <td>10</td>\n",
              "      <td>2</td>\n",
              "      <td>90.6</td>\n",
              "      <td>35.4</td>\n",
              "      <td>669.1</td>\n",
              "      <td>6.7</td>\n",
              "      <td>18.0</td>\n",
              "      <td>33</td>\n",
              "      <td>0.9</td>\n",
              "      <td>0.0</td>\n",
              "      <td>0.0</td>\n",
              "    </tr>\n",
              "    <tr>\n",
              "      <th>2</th>\n",
              "      <td>7</td>\n",
              "      <td>4</td>\n",
              "      <td>10</td>\n",
              "      <td>6</td>\n",
              "      <td>90.6</td>\n",
              "      <td>43.7</td>\n",
              "      <td>686.9</td>\n",
              "      <td>6.7</td>\n",
              "      <td>14.6</td>\n",
              "      <td>33</td>\n",
              "      <td>1.3</td>\n",
              "      <td>0.0</td>\n",
              "      <td>0.0</td>\n",
              "    </tr>\n",
              "    <tr>\n",
              "      <th>3</th>\n",
              "      <td>8</td>\n",
              "      <td>6</td>\n",
              "      <td>3</td>\n",
              "      <td>5</td>\n",
              "      <td>91.7</td>\n",
              "      <td>33.3</td>\n",
              "      <td>77.5</td>\n",
              "      <td>9.0</td>\n",
              "      <td>8.3</td>\n",
              "      <td>97</td>\n",
              "      <td>4.0</td>\n",
              "      <td>0.2</td>\n",
              "      <td>0.0</td>\n",
              "    </tr>\n",
              "    <tr>\n",
              "      <th>4</th>\n",
              "      <td>8</td>\n",
              "      <td>6</td>\n",
              "      <td>3</td>\n",
              "      <td>7</td>\n",
              "      <td>89.3</td>\n",
              "      <td>51.3</td>\n",
              "      <td>102.2</td>\n",
              "      <td>9.6</td>\n",
              "      <td>11.4</td>\n",
              "      <td>99</td>\n",
              "      <td>1.8</td>\n",
              "      <td>0.0</td>\n",
              "      <td>0.0</td>\n",
              "    </tr>\n",
              "  </tbody>\n",
              "</table>\n",
              "</div>"
            ],
            "text/plain": [
              "   X  Y  month  day  FFMC   DMC     DC  ISI  temp  RH  wind  rain  area\n",
              "0  7  5      3    5  86.2  26.2   94.3  5.1   8.2  51   6.7   0.0   0.0\n",
              "1  7  4     10    2  90.6  35.4  669.1  6.7  18.0  33   0.9   0.0   0.0\n",
              "2  7  4     10    6  90.6  43.7  686.9  6.7  14.6  33   1.3   0.0   0.0\n",
              "3  8  6      3    5  91.7  33.3   77.5  9.0   8.3  97   4.0   0.2   0.0\n",
              "4  8  6      3    7  89.3  51.3  102.2  9.6  11.4  99   1.8   0.0   0.0"
            ]
          },
          "metadata": {
            "tags": []
          },
          "execution_count": 81
        }
      ]
    },
    {
      "cell_type": "code",
      "metadata": {
        "colab": {
          "base_uri": "https://localhost:8080/"
        },
        "id": "a2TZM54F0eqj",
        "outputId": "9f0993ea-c60f-4ce9-f738-469c1d8cfde4"
      },
      "source": [
        "data[\"area\"].describe()"
      ],
      "execution_count": 82,
      "outputs": [
        {
          "output_type": "execute_result",
          "data": {
            "text/plain": [
              "count    517.000000\n",
              "mean       1.111026\n",
              "std        1.398436\n",
              "min        0.000000\n",
              "25%        0.000000\n",
              "50%        0.418710\n",
              "75%        2.024193\n",
              "max        6.995620\n",
              "Name: area, dtype: float64"
            ]
          },
          "metadata": {
            "tags": []
          },
          "execution_count": 82
        }
      ]
    },
    {
      "cell_type": "code",
      "metadata": {
        "id": "PH3VIuOf0hi6"
      },
      "source": [
        "train , test = tts(data, test_size = 0.3)\r\n",
        "\r\n",
        "x_train = train.drop(\"area\",axis=1)\r\n",
        "y_train = train[\"area\"]\r\n",
        "\r\n",
        "x_test = test.drop(\"area\",axis=1)\r\n",
        "y_test = test[\"area\"]"
      ],
      "execution_count": 83,
      "outputs": []
    },
    {
      "cell_type": "code",
      "metadata": {
        "id": "z2edmbi30jrl"
      },
      "source": [
        "from sklearn.preprocessing import MinMaxScaler as mm\r\n",
        "scaler = mm(feature_range=(0,1))#feature range-0 to 1\r\n",
        "\r\n",
        "x_train_scaled = scaler.fit_transform(x_train)\r\n",
        "x_train = pd.DataFrame(x_train_scaled)\r\n",
        "\r\n",
        "x_test_scaled = scaler.fit_transform(x_test)\r\n",
        "x_test = pd.DataFrame(x_test_scaled)"
      ],
      "execution_count": 84,
      "outputs": []
    },
    {
      "cell_type": "code",
      "metadata": {
        "colab": {
          "base_uri": "https://localhost:8080/"
        },
        "id": "MXG9tf5D0s4y",
        "outputId": "0ed2a88f-0ab1-4db9-a971-b4e09bddf5ad"
      },
      "source": [
        "iter_len = len(x_test)#length- 0.3(how much data is available)\r\n",
        "print(iter_len)\r\n",
        "\r\n",
        "iter_size = round(sqrt(iter_len))#loop test series m ,loops with every data  and it does not  overfit\r\n",
        "print(iter_size)\r\n",
        "rmse_val_df = pd.DataFrame(columns=[\"K\",\"Error\"])\r\n",
        "rmse_val_list = list()\r\n",
        "\r\n",
        "for K in range(iter_size):#k =round(sqrt)\r\n",
        "    K=K+1#loop\r\n",
        "    model = KNR(n_neighbors=K)#parameters\r\n",
        "    model.fit(x_train,y_train)\r\n",
        "    pred = model.predict(x_test)\r\n",
        "   \r\n",
        "    error = sqrt(mean_squared_error(y_test,pred))\r\n",
        "    rmse_val_list.append(error)\r\n",
        "    rmse_val_df = rmse_val_df.append({'K':K,'Error':error},ignore_index=True)\r\n",
        "print('the minimum error we get it',min(rmse_val_list))\r\n",
        "print(\"the corresponding minimum K value:\", 1+rmse_val_list.index(min(rmse_val_list)))"
      ],
      "execution_count": 85,
      "outputs": [
        {
          "output_type": "stream",
          "text": [
            "156\n",
            "12\n",
            "the minimum error we get it 1.5008388232498138\n",
            "the corresponding minimum K value: 12\n"
          ],
          "name": "stdout"
        }
      ]
    },
    {
      "cell_type": "code",
      "metadata": {
        "colab": {
          "base_uri": "https://localhost:8080/"
        },
        "id": "KOdVg98W1J11",
        "outputId": "a5eaae96-a91d-43fc-db97-acb3ece90bef"
      },
      "source": [
        "pred"
      ],
      "execution_count": 86,
      "outputs": [
        {
          "output_type": "execute_result",
          "data": {
            "text/plain": [
              "array([1.42552897, 1.067193  , 1.36827938, 0.94909502, 1.66082609,\n",
              "       1.52031777, 1.25589417, 1.32563296, 1.73608141, 1.90112234,\n",
              "       1.28918177, 1.52969288, 1.1575099 , 0.74542155, 1.4095408 ,\n",
              "       1.31164604, 0.95009741, 0.77472355, 1.62524531, 0.77103896,\n",
              "       1.80761611, 0.88130418, 0.86669809, 1.23767307, 1.66561714,\n",
              "       0.46291081, 1.33189098, 0.78538992, 1.1784538 , 1.70726308,\n",
              "       1.37997174, 0.78944765, 1.63270728, 1.0979675 , 1.25563498,\n",
              "       0.98424917, 0.85773886, 0.19800147, 1.18570267, 0.5856036 ,\n",
              "       0.9132166 , 0.94844501, 0.64418577, 0.78909994, 1.60071449,\n",
              "       0.66001955, 0.5856036 , 0.3966173 , 0.89384419, 1.18549314,\n",
              "       0.77788605, 1.63173354, 1.51931868, 1.35550644, 1.63948851,\n",
              "       0.62359824, 1.00473005, 1.19671773, 0.59326492, 1.4974082 ,\n",
              "       0.63705249, 1.30835771, 1.22594108, 0.73744321, 1.41982719,\n",
              "       0.41627607, 1.3311172 , 1.46829373, 1.51115187, 1.70389185,\n",
              "       1.36777511, 1.00446034, 1.54790132, 0.33798387, 0.94384548,\n",
              "       0.61510347, 1.33211358, 1.16267101, 1.24915708, 0.74293561,\n",
              "       0.71489227, 0.69538009, 1.29105387, 0.56573923, 1.28280246,\n",
              "       1.11040995, 1.29370738, 1.3858548 , 1.20778906, 1.07827419,\n",
              "       1.08266636, 1.5715372 , 0.66660923, 1.26621955, 1.55490407,\n",
              "       1.40873756, 1.21273928, 0.92649445, 0.77472355, 1.04729059,\n",
              "       0.69619289, 0.94384548, 1.33252161, 0.58879946, 1.44878897,\n",
              "       0.77472355, 1.1784538 , 0.753685  , 1.36412533, 0.97841499,\n",
              "       1.65362572, 0.55358035, 0.90496323, 1.27417119, 1.53922372,\n",
              "       1.03493514, 0.87180763, 1.25448252, 0.96855294, 1.35131112,\n",
              "       1.44919341, 1.1401749 , 0.6572003 , 0.94149556, 1.06741671,\n",
              "       1.56357729, 1.3185443 , 1.60552973, 1.09175152, 1.24549943,\n",
              "       1.47822279, 1.06335515, 1.22434753, 0.84063225, 1.71893278,\n",
              "       0.95210666, 1.14688032, 1.57086922, 0.51166811, 0.47299837,\n",
              "       1.28563823, 1.76668803, 0.78902456, 1.78392368, 1.17850069,\n",
              "       1.9254913 , 1.23605201, 0.27410265, 0.87569496, 1.16644072,\n",
              "       0.96855294, 1.71682152, 1.70494123, 1.08575364, 1.42782096,\n",
              "       0.95593068])"
            ]
          },
          "metadata": {
            "tags": []
          },
          "execution_count": 86
        }
      ]
    },
    {
      "cell_type": "code",
      "metadata": {
        "colab": {
          "base_uri": "https://localhost:8080/"
        },
        "id": "WxUgmF471KaS",
        "outputId": "21c89967-fe4f-4a57-94c3-c48429051219"
      },
      "source": [
        "y_test"
      ],
      "execution_count": 87,
      "outputs": [
        {
          "output_type": "execute_result",
          "data": {
            "text/plain": [
              "423    0.542324\n",
              "263    0.940007\n",
              "88     0.000000\n",
              "513    4.012592\n",
              "170    1.272566\n",
              "         ...   \n",
              "392    4.273327\n",
              "13     0.000000\n",
              "86     0.000000\n",
              "312    0.000000\n",
              "129    0.000000\n",
              "Name: area, Length: 156, dtype: float64"
            ]
          },
          "metadata": {
            "tags": []
          },
          "execution_count": 87
        }
      ]
    },
    {
      "cell_type": "markdown",
      "metadata": {
        "id": "uldeo0r11udG"
      },
      "source": [
        "If fire area > 0, set the value to 1 and change column name from area to label"
      ]
    },
    {
      "cell_type": "code",
      "metadata": {
        "colab": {
          "base_uri": "https://localhost:8080/",
          "height": 415
        },
        "id": "meecKof51vZu",
        "outputId": "03bf59d6-b1b0-4c6a-a8a5-fee5e17c1e44"
      },
      "source": [
        "data['area'].values[data['area'].values > 0] = 1\r\n",
        "data = data.rename(columns={'area': 'label'})\r\n",
        "\r\n",
        "data"
      ],
      "execution_count": 88,
      "outputs": [
        {
          "output_type": "execute_result",
          "data": {
            "text/html": [
              "<div>\n",
              "<style scoped>\n",
              "    .dataframe tbody tr th:only-of-type {\n",
              "        vertical-align: middle;\n",
              "    }\n",
              "\n",
              "    .dataframe tbody tr th {\n",
              "        vertical-align: top;\n",
              "    }\n",
              "\n",
              "    .dataframe thead th {\n",
              "        text-align: right;\n",
              "    }\n",
              "</style>\n",
              "<table border=\"1\" class=\"dataframe\">\n",
              "  <thead>\n",
              "    <tr style=\"text-align: right;\">\n",
              "      <th></th>\n",
              "      <th>X</th>\n",
              "      <th>Y</th>\n",
              "      <th>month</th>\n",
              "      <th>day</th>\n",
              "      <th>FFMC</th>\n",
              "      <th>DMC</th>\n",
              "      <th>DC</th>\n",
              "      <th>ISI</th>\n",
              "      <th>temp</th>\n",
              "      <th>RH</th>\n",
              "      <th>wind</th>\n",
              "      <th>rain</th>\n",
              "      <th>label</th>\n",
              "    </tr>\n",
              "  </thead>\n",
              "  <tbody>\n",
              "    <tr>\n",
              "      <th>0</th>\n",
              "      <td>7</td>\n",
              "      <td>5</td>\n",
              "      <td>3</td>\n",
              "      <td>5</td>\n",
              "      <td>86.2</td>\n",
              "      <td>26.2</td>\n",
              "      <td>94.3</td>\n",
              "      <td>5.1</td>\n",
              "      <td>8.2</td>\n",
              "      <td>51</td>\n",
              "      <td>6.7</td>\n",
              "      <td>0.0</td>\n",
              "      <td>0.0</td>\n",
              "    </tr>\n",
              "    <tr>\n",
              "      <th>1</th>\n",
              "      <td>7</td>\n",
              "      <td>4</td>\n",
              "      <td>10</td>\n",
              "      <td>2</td>\n",
              "      <td>90.6</td>\n",
              "      <td>35.4</td>\n",
              "      <td>669.1</td>\n",
              "      <td>6.7</td>\n",
              "      <td>18.0</td>\n",
              "      <td>33</td>\n",
              "      <td>0.9</td>\n",
              "      <td>0.0</td>\n",
              "      <td>0.0</td>\n",
              "    </tr>\n",
              "    <tr>\n",
              "      <th>2</th>\n",
              "      <td>7</td>\n",
              "      <td>4</td>\n",
              "      <td>10</td>\n",
              "      <td>6</td>\n",
              "      <td>90.6</td>\n",
              "      <td>43.7</td>\n",
              "      <td>686.9</td>\n",
              "      <td>6.7</td>\n",
              "      <td>14.6</td>\n",
              "      <td>33</td>\n",
              "      <td>1.3</td>\n",
              "      <td>0.0</td>\n",
              "      <td>0.0</td>\n",
              "    </tr>\n",
              "    <tr>\n",
              "      <th>3</th>\n",
              "      <td>8</td>\n",
              "      <td>6</td>\n",
              "      <td>3</td>\n",
              "      <td>5</td>\n",
              "      <td>91.7</td>\n",
              "      <td>33.3</td>\n",
              "      <td>77.5</td>\n",
              "      <td>9.0</td>\n",
              "      <td>8.3</td>\n",
              "      <td>97</td>\n",
              "      <td>4.0</td>\n",
              "      <td>0.2</td>\n",
              "      <td>0.0</td>\n",
              "    </tr>\n",
              "    <tr>\n",
              "      <th>4</th>\n",
              "      <td>8</td>\n",
              "      <td>6</td>\n",
              "      <td>3</td>\n",
              "      <td>7</td>\n",
              "      <td>89.3</td>\n",
              "      <td>51.3</td>\n",
              "      <td>102.2</td>\n",
              "      <td>9.6</td>\n",
              "      <td>11.4</td>\n",
              "      <td>99</td>\n",
              "      <td>1.8</td>\n",
              "      <td>0.0</td>\n",
              "      <td>0.0</td>\n",
              "    </tr>\n",
              "    <tr>\n",
              "      <th>...</th>\n",
              "      <td>...</td>\n",
              "      <td>...</td>\n",
              "      <td>...</td>\n",
              "      <td>...</td>\n",
              "      <td>...</td>\n",
              "      <td>...</td>\n",
              "      <td>...</td>\n",
              "      <td>...</td>\n",
              "      <td>...</td>\n",
              "      <td>...</td>\n",
              "      <td>...</td>\n",
              "      <td>...</td>\n",
              "      <td>...</td>\n",
              "    </tr>\n",
              "    <tr>\n",
              "      <th>512</th>\n",
              "      <td>4</td>\n",
              "      <td>3</td>\n",
              "      <td>8</td>\n",
              "      <td>7</td>\n",
              "      <td>81.6</td>\n",
              "      <td>56.7</td>\n",
              "      <td>665.6</td>\n",
              "      <td>1.9</td>\n",
              "      <td>27.8</td>\n",
              "      <td>32</td>\n",
              "      <td>2.7</td>\n",
              "      <td>0.0</td>\n",
              "      <td>1.0</td>\n",
              "    </tr>\n",
              "    <tr>\n",
              "      <th>513</th>\n",
              "      <td>2</td>\n",
              "      <td>4</td>\n",
              "      <td>8</td>\n",
              "      <td>7</td>\n",
              "      <td>81.6</td>\n",
              "      <td>56.7</td>\n",
              "      <td>665.6</td>\n",
              "      <td>1.9</td>\n",
              "      <td>21.9</td>\n",
              "      <td>71</td>\n",
              "      <td>5.8</td>\n",
              "      <td>0.0</td>\n",
              "      <td>1.0</td>\n",
              "    </tr>\n",
              "    <tr>\n",
              "      <th>514</th>\n",
              "      <td>7</td>\n",
              "      <td>4</td>\n",
              "      <td>8</td>\n",
              "      <td>7</td>\n",
              "      <td>81.6</td>\n",
              "      <td>56.7</td>\n",
              "      <td>665.6</td>\n",
              "      <td>1.9</td>\n",
              "      <td>21.2</td>\n",
              "      <td>70</td>\n",
              "      <td>6.7</td>\n",
              "      <td>0.0</td>\n",
              "      <td>1.0</td>\n",
              "    </tr>\n",
              "    <tr>\n",
              "      <th>515</th>\n",
              "      <td>1</td>\n",
              "      <td>4</td>\n",
              "      <td>8</td>\n",
              "      <td>6</td>\n",
              "      <td>94.4</td>\n",
              "      <td>146.0</td>\n",
              "      <td>614.7</td>\n",
              "      <td>11.3</td>\n",
              "      <td>25.6</td>\n",
              "      <td>42</td>\n",
              "      <td>4.0</td>\n",
              "      <td>0.0</td>\n",
              "      <td>0.0</td>\n",
              "    </tr>\n",
              "    <tr>\n",
              "      <th>516</th>\n",
              "      <td>6</td>\n",
              "      <td>3</td>\n",
              "      <td>11</td>\n",
              "      <td>2</td>\n",
              "      <td>79.5</td>\n",
              "      <td>3.0</td>\n",
              "      <td>106.7</td>\n",
              "      <td>1.1</td>\n",
              "      <td>11.8</td>\n",
              "      <td>31</td>\n",
              "      <td>4.5</td>\n",
              "      <td>0.0</td>\n",
              "      <td>0.0</td>\n",
              "    </tr>\n",
              "  </tbody>\n",
              "</table>\n",
              "<p>517 rows × 13 columns</p>\n",
              "</div>"
            ],
            "text/plain": [
              "     X  Y  month  day  FFMC    DMC     DC   ISI  temp  RH  wind  rain  label\n",
              "0    7  5      3    5  86.2   26.2   94.3   5.1   8.2  51   6.7   0.0    0.0\n",
              "1    7  4     10    2  90.6   35.4  669.1   6.7  18.0  33   0.9   0.0    0.0\n",
              "2    7  4     10    6  90.6   43.7  686.9   6.7  14.6  33   1.3   0.0    0.0\n",
              "3    8  6      3    5  91.7   33.3   77.5   9.0   8.3  97   4.0   0.2    0.0\n",
              "4    8  6      3    7  89.3   51.3  102.2   9.6  11.4  99   1.8   0.0    0.0\n",
              "..  .. ..    ...  ...   ...    ...    ...   ...   ...  ..   ...   ...    ...\n",
              "512  4  3      8    7  81.6   56.7  665.6   1.9  27.8  32   2.7   0.0    1.0\n",
              "513  2  4      8    7  81.6   56.7  665.6   1.9  21.9  71   5.8   0.0    1.0\n",
              "514  7  4      8    7  81.6   56.7  665.6   1.9  21.2  70   6.7   0.0    1.0\n",
              "515  1  4      8    6  94.4  146.0  614.7  11.3  25.6  42   4.0   0.0    0.0\n",
              "516  6  3     11    2  79.5    3.0  106.7   1.1  11.8  31   4.5   0.0    0.0\n",
              "\n",
              "[517 rows x 13 columns]"
            ]
          },
          "metadata": {
            "tags": []
          },
          "execution_count": 88
        }
      ]
    },
    {
      "cell_type": "code",
      "metadata": {
        "id": "yiuj6Ptx2AeE"
      },
      "source": [
        "from sklearn.naive_bayes import GaussianNB\r\n",
        "from sklearn.model_selection import train_test_split\r\n",
        "import sklearn.metrics as metrics\r\n",
        "\r\n",
        "X = data.drop('label', axis=1)\r\n",
        "y = data['label']\r\n",
        "\r\n",
        "X_train, X_test, y_train, y_test = train_test_split(X,y, test_size=0.4,random_state=101)"
      ],
      "execution_count": 89,
      "outputs": []
    },
    {
      "cell_type": "code",
      "metadata": {
        "colab": {
          "base_uri": "https://localhost:8080/"
        },
        "id": "9QsspVIG2MSQ",
        "outputId": "84a3d2ff-c4d1-436a-b83d-4044b0df827a"
      },
      "source": [
        "G_NB = GaussianNB()\r\n",
        "G_NB.fit(X_train,y_train)\r\n",
        "print(G_NB)\r\n",
        "\r\n",
        "# make predictions\r\n",
        "predict = G_NB.predict(X_test)\r\n",
        "\r\n",
        "print(metrics.classification_report(y_test, predict))\r\n",
        "\r\n",
        "print(metrics.confusion_matrix(y_test, predict))\r\n",
        "\r\n",
        "print(\"Accuracy:\",metrics.accuracy_score(y_test, predict))\r\n",
        "print(\"Precision:\",metrics.precision_score(y_test, predict))\r\n",
        "print(\"Recall:\",metrics.recall_score(y_test, predict))"
      ],
      "execution_count": 90,
      "outputs": [
        {
          "output_type": "stream",
          "text": [
            "GaussianNB(priors=None, var_smoothing=1e-09)\n",
            "              precision    recall  f1-score   support\n",
            "\n",
            "         0.0       0.53      0.10      0.17        92\n",
            "         1.0       0.56      0.93      0.70       115\n",
            "\n",
            "    accuracy                           0.56       207\n",
            "   macro avg       0.55      0.51      0.43       207\n",
            "weighted avg       0.55      0.56      0.46       207\n",
            "\n",
            "[[  9  83]\n",
            " [  8 107]]\n",
            "Accuracy: 0.5603864734299517\n",
            "Precision: 0.5631578947368421\n",
            "Recall: 0.9304347826086956\n"
          ],
          "name": "stdout"
        }
      ]
    },
    {
      "cell_type": "code",
      "metadata": {
        "colab": {
          "base_uri": "https://localhost:8080/"
        },
        "id": "beleoq4l2P4L",
        "outputId": "45c4ecb1-f06c-4c4e-c365-c940c24868fc"
      },
      "source": [
        " classes={0:'safe',1:'On Fire'}\r\n",
        "x_new=[[1, 4, 9 ,1 ,91.5, 130.1, 807.1, 7.5, 21.3, 35, 2.2, 0]]\r\n",
        "y_predict=G_NB.predict(x_new)\r\n",
        "print(classes[y_predict[0]])"
      ],
      "execution_count": 91,
      "outputs": [
        {
          "output_type": "stream",
          "text": [
            "On Fire\n"
          ],
          "name": "stdout"
        }
      ]
    },
    {
      "cell_type": "markdown",
      "metadata": {
        "id": "ejoFC0pk5pyt"
      },
      "source": [
        "Applying XGboost"
      ]
    },
    {
      "cell_type": "code",
      "metadata": {
        "id": "HWxMw5dw2TCg"
      },
      "source": [
        "import xgboost as xgb\r\n",
        "xg_reg = xgb.XGBRegressor(base_score=0.3, booster='gbtree', colsample_bylevel=1,\r\n",
        "       colsample_bytree=0.24, gamma=0, learning_rate=0.01, max_delta_step=0,\r\n",
        "       max_depth=3, min_child_weight=1, missing=None, n_estimators=102,\r\n",
        "       n_jobs=1, nthread=None, objective='reg:linear', random_state=0,\r\n",
        "       reg_alpha=0, reg_lambda=1, scale_pos_weight=1, seed=None,\r\n",
        "       silent=True, subsample=1)"
      ],
      "execution_count": 92,
      "outputs": []
    },
    {
      "cell_type": "code",
      "metadata": {
        "id": "rcZYZOR92b1F"
      },
      "source": [
        "eval_set = [(X_train, y_train), (X_test, y_test)]\r\n",
        "xg_reg.fit(X_train, y_train, eval_metric=[\"rmse\"],eval_set=eval_set, verbose=False)\r\n",
        "preds = xg_reg.predict(X_test)"
      ],
      "execution_count": 93,
      "outputs": []
    },
    {
      "cell_type": "markdown",
      "metadata": {
        "id": "xyWUo90i5K4E"
      },
      "source": [
        "verbose set to False so that we can hide results of model fit progress"
      ]
    },
    {
      "cell_type": "code",
      "metadata": {
        "id": "6Lz1QEHn2kml"
      },
      "source": [
        "def calc_ISE(X_train, y_train, model):\r\n",
        "    '''returns the in-sample R^2 and RMSE; assumes model already fit.'''\r\n",
        "    predictions = model.predict(X_train)\r\n",
        "    mse = mean_squared_error(y_train, predictions)\r\n",
        "    rmse = np.sqrt(mse)\r\n",
        "    return model.score(X_train, y_train), rmse\r\n",
        "    \r\n",
        "def calc_OSE(X_test, y_test, model):\r\n",
        "    '''returns the out-of-sample R^2 and RMSE; assumes model already fit.'''\r\n",
        "    predictions = model.predict(X_test)\r\n",
        "    mse = mean_squared_error(y_test, predictions)\r\n",
        "    rmse = np.sqrt(mse)\r\n",
        "    return model.score(X_test, y_test), rmse"
      ],
      "execution_count": 94,
      "outputs": []
    },
    {
      "cell_type": "markdown",
      "metadata": {
        "id": "d_3wfdJu5Ak8"
      },
      "source": [
        "Calculate In-Sample and Out-of-Sample R^2 and Error"
      ]
    },
    {
      "cell_type": "code",
      "metadata": {
        "colab": {
          "base_uri": "https://localhost:8080/"
        },
        "id": "Lb4es8OA2lVw",
        "outputId": "3fd04aa8-f0c7-40bd-bb21-de14f4cbac9e"
      },
      "source": [
        "is_r2, ise = calc_ISE(X_train, y_train,xg_reg )\r\n",
        "os_r2, ose = calc_OSE(X_test, y_test, xg_reg)\r\n",
        "\r\n",
        "# show dataset sizes\r\n",
        "data_list = (('R^2_in', is_r2), ('R^2_out', os_r2), \r\n",
        "             ('ISE', ise), ('OSE', ose))\r\n",
        "for item in data_list:\r\n",
        "    print('{:10}: {}'.format(item[0], item[1]))"
      ],
      "execution_count": 95,
      "outputs": [
        {
          "output_type": "stream",
          "text": [
            "R^2_in    : 0.09065180753144075\n",
            "R^2_out   : -0.04918378520444277\n",
            "ISE       : 0.4767987501212014\n",
            "OSE       : 0.5089771357751129\n"
          ],
          "name": "stdout"
        }
      ]
    },
    {
      "cell_type": "markdown",
      "metadata": {
        "id": "IBqqhNj543r_"
      },
      "source": [
        "Test error(OSE) is near to the training error(ISE). i.e our model is ok."
      ]
    },
    {
      "cell_type": "code",
      "metadata": {
        "colab": {
          "base_uri": "https://localhost:8080/"
        },
        "id": "aogSjArh2nmi",
        "outputId": "528a3bea-676f-4eb9-e49f-34d45187cd72"
      },
      "source": [
        "print('train/test: ',ose/ise)"
      ],
      "execution_count": 96,
      "outputs": [
        {
          "output_type": "stream",
          "text": [
            "train/test:  1.0674884018587127\n"
          ],
          "name": "stdout"
        }
      ]
    },
    {
      "cell_type": "code",
      "metadata": {
        "colab": {
          "base_uri": "https://localhost:8080/"
        },
        "id": "oHr9QEpr2woB",
        "outputId": "e0a06600-8c20-4ede-a733-bc519280a697"
      },
      "source": [
        "rmse = np.sqrt(mean_squared_error(y_test, preds))\r\n",
        "print(\"RMSE: %f\" % (rmse))"
      ],
      "execution_count": 97,
      "outputs": [
        {
          "output_type": "stream",
          "text": [
            "RMSE: 0.508977\n"
          ],
          "name": "stdout"
        }
      ]
    },
    {
      "cell_type": "code",
      "metadata": {
        "id": "hp-H9sxE20Nw"
      },
      "source": [
        ""
      ],
      "execution_count": 97,
      "outputs": []
    }
  ]
}